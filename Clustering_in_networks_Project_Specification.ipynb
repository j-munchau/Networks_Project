{
 "cells": [
  {
   "cell_type": "markdown",
   "metadata": {},
   "source": [
    "#### MA124 Maths by Computer\n",
    "# Project: Clustering in real-world networks\n",
    "\n",
    "#### Background\n",
    "A network in its simplest form is a graph representation of a real-world system in which nodes are entities of \n",
    "interest (e.g., individuals) and edges are pairwise interactions between entities (e.g., connections on social media). \n",
    "Networks are useful representations in a wide range of applications, such as sociology, biology, economics, transportation, and so on. \n",
    "\n",
    "A broad range of network features can be characterised via properties of matrices commonly used to describe networks. *Communities* or *clusters* are a very commonly studied type of network feature. These are loosely defined as sets of nodes that are strongly connected in a network (e.g., echo chambers in a Twitter social network, brain regions contributing to similar functions in a neuronal network). In this project, we will explore how two matrices known as the *adjacency matrix* and the *Laplacian* can be used to decompose real-world networks into communities. \n",
    "\n",
    "#### Suggested reading\n",
    "\n",
    "*Some references on Community Detection more broadly:* \n",
    "\n",
    "1- Mason A. Porter's paper *Communities in Network*, The American Mathematical Society, 2009. Link here: https://arxiv.org/abs/0902.3788\n",
    "\n",
    "2 - S. Fortunato's survey paper *Community detection in graphs*, Physics Report, 2010. Link here: https://arxiv.org/abs/0906.0612?context=cs\n",
    "\n",
    "3 - S. Fortunato and Mark. E. J. Newman's opinion piece, *20 Years of Community Detection*, Nature Physics, 2022. Link here: https://arxiv.org/abs/2208.00111\n",
    "\n",
    "*Some references on Spectral Bipartitioning:* \n",
    "\n",
    "1 - Mark E. J. Newman's paper *Finding community structure in networks using the eigenvectors of matrices*, Physical Review E, 2009. Look at Section II *Graph partitioning and the Laplacian matrix* Link here: https://arxiv.org/abs/physics/0605087 \n",
    "\n",
    "2 - Mark E. J. Newman's book *Networks: An Introduction*: Section 11.5 *Spectral partitioning* in the Chapter *Matrix algorithms and graph partitioning*, 2010. Link here: https://math.bme.hu/~gabor/oktatas/SztoM/Newman_Networks.pdf\n",
    "\n",
    "3 - Ulrike von Luxburg, *A tutorial on spectral clustering*, Statistics and Computing, 2006. Link here: https://arxiv.org/abs/0711.0189\n",
    "\n",
    "#### Struture of project\n",
    "\n",
    "There are 6 tasks in the document below, tasks A1-A4 in Section A and then tasks B1-B2 in section B. Your group should do all of these tasks. A1-A4 are worth approximately 60% of the credit for this submission and tasks B1-B2 are worth approximately the other 40%.\n",
    "\n",
    "#### Notes on submission\n",
    "Read through the document **MA124 Maths by Computer Tutor Group Projects_Information for Students_23_24.pdf** on the MA124 Moodle page.\n",
    "\n",
    "Before submitting see the notes at the end of this document.\n",
    "\n",
    "#### Allowed libraries for this project: \n",
    "networkx numpy matplotlib \n",
    "\n",
    "This means that you may include these lines of code at the start of any of your code cells (and please use the aliases given below)."
   ]
  },
  {
   "cell_type": "code",
   "execution_count": null,
   "metadata": {},
   "outputs": [],
   "source": [
    "import networkx as nx #for analysing networks\n",
    "import numpy as np #for maths functionality, including vectors and matrices\n",
    "import matplotlib.pyplot as plt #for visualising data"
   ]
  },
  {
   "cell_type": "markdown",
   "metadata": {},
   "source": [
    "## Section A - (worth approximately 60% of the marks)"
   ]
  },
  {
   "cell_type": "markdown",
   "metadata": {},
   "source": [
    "Let us consider the Zachary Karate Club as a first real-world network example. The Zachary Karate Club is a much studied network in network science. The data was collected about members of a university karate club by Wayne Zachary in 1977. \n",
    "\n",
    "Each node represents a member of the club, and each edge represents a tie between two members of the club. A frequently discussed problem using this dataset is to find the two sets of people into which the karate club split after an argument between two teachers in the club.\n",
    "\n",
    "[ NB: There is a trophy named after this data set that is awarded to the first scientist at a conference on networks who uses the Zachary Karate Club as an example in their talk. You can see past trophy holders here: https://networkkarate.tumblr.com ]"
   ]
  },
  {
   "cell_type": "markdown",
   "metadata": {},
   "source": [
    "### Task A1 - Preliminaries [approximately 5%]\n",
    "\n",
    "- Compile the three cells below. These consist of (1) loading the Zachary Karate Club network data; (2) visualizing the network; and (3) visualizing its corresponding adjacency matrix. \n",
    "- Write code that prints the size of the adjacency matrix using a numpy function of your choice (e.g., shape) and makes sure its entries are 0 and 1 using a numpy function of your choice (e.g., unique), where 0 (resp. 1) indicates the absence (resp. the presence) of a tie between two club members. \n",
    "\n",
    "After running them, add code cell(s) below the following three cells in which to answer the second part of the above."
   ]
  },
  {
   "cell_type": "code",
   "execution_count": null,
   "metadata": {},
   "outputs": [],
   "source": [
    "ZKC_graph = nx.karate_club_graph() # load the Zachary Karate Club network data from the NetworkX package\n",
    "print(\"The number of nodes is\", ZKC_graph.number_of_nodes()) # print the number of nodes\n",
    "print(\"The number of edges is\", ZKC_graph.number_of_edges()) # print the number of edges"
   ]
  },
  {
   "cell_type": "code",
   "execution_count": null,
   "metadata": {},
   "outputs": [],
   "source": [
    "positions = nx.spring_layout(ZKC_graph) # generate a layout for the nodes (you can try different ones by re-compiling this cell), and comment this line out or save the layout if you want to use the same one for subsequent visualizations\n",
    "nx.draw(ZKC_graph, positions, cmap=plt.cm.prism) # visualize the network (note: for those of you interested in further explore network visualizations, Gephi https://gephi.org is a useful tool)"
   ]
  },
  {
   "cell_type": "code",
   "execution_count": null,
   "metadata": {},
   "outputs": [],
   "source": [
    "A = nx.to_numpy_array(ZKC_graph) # convert the network into an adjacency matrix \n",
    "A = np.where(A >= 1, 1, 0) # binarize the network (the entry is 1 for any nonzero edge weight and 0 otherwise)\n",
    "plt.spy(A) # visualize the adjacency matrix of the network (with black = 1 and white = 0)"
   ]
  },
  {
   "cell_type": "markdown",
   "metadata": {},
   "source": [
    "---\n",
    "### Task A2 - Degrees [approximately 15%]\n",
    "#### A2a\n",
    "What does the function below return for each node $i$ of the network? \n",
    "\n",
    "Add a markdown cell below the code cell below in which to answer this question."
   ]
  },
  {
   "cell_type": "code",
   "execution_count": null,
   "metadata": {},
   "outputs": [],
   "source": [
    "def deg_node(A,i):\n",
    "    k = 0\n",
    "    for j in range(A.shape[0]):\n",
    "        k = k + A[i][j]\n",
    "    return k"
   ]
  },
  {
   "cell_type": "markdown",
   "metadata": {},
   "source": [
    "#### A2b \n",
    "Write a function that does the following: \n",
    " \n",
    "- takes as input a matrix A      \n",
    "- defines a matrix B equal to A minus the transpose of A      \n",
    "- returns the unique values in B\n",
    "\n",
    "Then consider how this function could be used to determine whether a matrix is symmetric. Specifically\n",
    "\n",
    "- Show the output of the function applied to the adjacency matrix A of the Zachary Karate Club. \n",
    "- Is the matrix symmetric? What would happen if I considered a row sum instead of a column sum in A2a (i.e., if I swap $i$ and $j$ in the line \"k = k + A[ i ] [ j ]\") when A is symmetric? \n",
    "\n",
    "*Add code and markdown cell(s) below this one to answer these questions.*"
   ]
  },
  {
   "cell_type": "markdown",
   "metadata": {},
   "source": [
    "#### A2c\n",
    "Write a function that does the following: \n",
    "\n",
    "- takes as input the adjacency matrix of a network\n",
    "- computes the degree of each node using a code similar to that in A2a\n",
    "- stores the node degrees in a numpy array \n",
    "- returns the numpy array of node degrees as an output \n",
    "\n",
    "Apply this function to the Zachary Karate Club and plot a histogram of its node degrees. \n",
    "\n",
    "*Add code cell(s) below to answer this.*"
   ]
  },
  {
   "cell_type": "markdown",
   "metadata": {},
   "source": [
    "#### A2d \n",
    "This is about the Zachary Karate Club network shown below which has nodes colored according to their degree (a darker shade signifies a larger degree). "
   ]
  },
  {
   "cell_type": "code",
   "execution_count": null,
   "metadata": {},
   "outputs": [],
   "source": [
    "k_seq = ZKC_graph.degree()\n",
    "k_seq_np = np.array(k_seq)\n",
    "k_seq_1darray = k_seq_np[:,1]\n",
    "nx.draw(ZKC_graph, positions,node_color=k_seq_1darray, cmap=plt.cm.Blues,\n",
    "                            with_labels=True)"
   ]
  },
  {
   "cell_type": "markdown",
   "metadata": {},
   "source": [
    "- Compute the mean, standard deviation, max, and minimum of the degree sequence.\n",
    "- Which two nodes in the Zachary Karate club network would you expect to have the two largest degrees? \n",
    "- Loosely speaking, what does it mean for a probability distribution to be \"heavy-tailed\"? \n",
    "- Can you give an example of a probability distribution that has been extensively studied when analyzing degree sequences of real-world networks and can be qualified as \"heavy-tailed\"?\n",
    "- Can you give two properties that this probability distribution satisfies?\n",
    "\n",
    "*Add code and markdown cell(s) below to answer the questions above.* "
   ]
  },
  {
   "cell_type": "markdown",
   "metadata": {},
   "source": [
    "---\n",
    "### Task A3: Laplacian [approximately 20%]\n",
    "The *Laplacian* $L$ of a symmetric adjacency matrix $A$ is defined as $L = D - A$, where $D$ is a diagonal matrix with $(i,i)$th entry the degree $k_i$ of node $i$. The Laplacian plays many important roles in understanding the structure of networks, and one such role is in understanding the community structure of networks. \n",
    "\n",
    "#### A3a \n",
    "- Write a function that takes an adjacency matrix as an input and returns the Laplacian of the adjacency matrix as an output. \n",
    "- What are the row and column sums of the Laplacian matrix equal to? \n",
    "- Verify your answer for the Zachary Karate Club adjacency matrix. \n",
    "\n",
    "*Add code and markdown cell(s) below to answer these questions.*"
   ]
  },
  {
   "cell_type": "markdown",
   "metadata": {},
   "source": [
    "#### A3b\n",
    "A vector $v \\in \\mathbb{R}^{N\\times 1}$ is said to be an *eigenvector* of a matrix $A \\in \\mathbb{R}^{N\\times N}$ if it satisfies the equality $Av = \\lambda v$, for some scalar $\\lambda \\in \\mathbb{R}$. In other words, $v$ is a vector that gets scaled by $\\lambda$ when one applies the linear transformation $A$ to it. The scalar $\\lambda$ is called the *eigenvalue* of $v$. \n",
    "\n",
    "- Using the function *np.linalg.eigh* compute the eigenvectors and eigenvalues of the Laplacian of the Zachary Karate Club. \n",
    "- Display the eigenvector corresponding to the first and second smallest eigenvalues.\n",
    "\n",
    "*Add code cell(s) below to answer the above.*"
   ]
  },
  {
   "cell_type": "markdown",
   "metadata": {},
   "source": [
    "#### A3c\n",
    "\n",
    "Using A3a, can you explain why 0 is always an eigenvalue of a Laplacian matrix with a constant eigenvector?\n",
    "\n",
    "(Hint: Mutiplying a matrix by a vector whose entries are all equal to 1 is equivalent to summing the columns of the matrix.)\n",
    "\n",
    "*Add markdown cell(s) below to answer the above.*"
   ]
  },
  {
   "cell_type": "markdown",
   "metadata": {},
   "source": [
    "---\n",
    "### Task A4: Spectral bipartioning [approximately 20%]\n",
    "\n",
    "#### A4a\n",
    "Suppose we have a partition of a network into two sets of nodes. The number of edges $R$ falling between these sets is called the cut size and is given by \n",
    "\\begin{equation*}\n",
    "R = \\frac{1}{2}\\sum_{\\substack{i,j \\text{ in} \\\\\\text{different}\\\\ \\text{sets}}} A_{ij}\\,.\n",
    "\\end{equation*}\n",
    "Show that $R$ can be rewritten as $R = \\frac{1}{4}s^TLs$ where \n",
    "\n",
    "\\begin{equation*}  \n",
    "s_i = \n",
    "     \\begin{cases}\n",
    "       +1 &\\quad\\text{if node } i \\text{ belongs to set } 1 \\\\\n",
    "       -1 &\\quad\\text{if node } i \\text{ belongs to set } 2\\,. \\\\\n",
    "     \\end{cases}\n",
    "\\end{equation*}\n",
    "\n",
    "*Add a markdown cell below to answer this.*\n",
    "\n",
    "#### A4b\n",
    "One way to find clusters is to minimize the cut size of a partition. The eigenvector corresponding to the second smallest eigenvalue of the Laplacian is called the *Fiedler vector*.\n",
    "It can be shown that an approximate solution to cut size minimization for the case of two clusters can be obtained through the Fiedler vector. Using the signs of the Fiedler eigenvector, one can write a heuristic algorithm that splits the nodes in the Karate Club into two clusters. One can then encode the clustering using a partition array.\n",
    "- Can you explain what each line of the function below does? How is a clustering encoded in the output partition? \n",
    "\n",
    "*Add a markdown cell below the code block below to answer this.*"
   ]
  },
  {
   "cell_type": "code",
   "execution_count": null,
   "metadata": {},
   "outputs": [],
   "source": [
    "def spectral_bipartitioning(A, k_seq):\n",
    "    laplacian_matrix = np.diagflat(k_seq) - A\n",
    "    eigenvalues, eigenvectors = np.linalg.eigh(laplacian_matrix)\n",
    "    index_1 = np.argsort(eigenvalues)[1]\n",
    "    partition = [val >= 0 for val in eigenvectors[:, index_1]]\n",
    "    partition_array = 1*np.reshape(partition, A.shape[0])\n",
    "    return partition_array"
   ]
  },
  {
   "cell_type": "markdown",
   "metadata": {},
   "source": [
    "#### A4c \n",
    "- Apply the function above to the adjacency matrix of the Zachary Karate Club. \n",
    "- Using the visualization technique in A2d and swapping the colormap \"plt.cm.Blues\" with \"plt.cm.prism\", visualize the network with nodes colored based on their community.\n",
    "- Are the two highest degree nodes in different communities? How might you interpret the resulting two communities? \n",
    "\n",
    "*Add code and markdown cell(s) below to answer this question.*"
   ]
  },
  {
   "cell_type": "markdown",
   "metadata": {},
   "source": [
    "---\n",
    "---\n",
    "### Section B (worth approximately 40%) "
   ]
  },
  {
   "cell_type": "markdown",
   "metadata": {},
   "source": [
    "### Task B1: Analyse a network of your choice.\n",
    "\n",
    "#### B1a\n",
    "Go to the website http://konect.cc and download network data for a **small (e.g., $n \\leq 50$), unipartite (i.e., one type of node), unweighted, and undirected (i.e., symmetric adjacency matrix)** network of your choice. Examples include: \n",
    "\n",
    "- The Zachary Karate Club (don't choose this one, unless it's for practice!)\n",
    "- HIV\n",
    "- Zebra\n",
    "- Dolphins (note: the input file for Dolphins is already available as part of the assignment, for those that prefer not to follow the steps below)\n",
    "\n",
    "The steps to download a network of your choice and load it into a Jupyter Notebook are as follows:\n",
    "\n",
    "a. Choose a network from http://konect.cc/networks/ and click on the corresponding link;\n",
    "\n",
    "b. Click on \"Dataset available for download\"; NB: The README file in the downloaded folder contains a brief description of the network and data.\n",
    "\n",
    "c. Save the \"out.FILENAME\" in the same folder as your Jupyter notebook; \n",
    "\n",
    "d. Adapt the cell below that uses the Zachary Karate Club network to the network that you chose.\n",
    "\n",
    "*Add code and markdown cell(s) below to answer this question.*"
   ]
  },
  {
   "cell_type": "code",
   "execution_count": null,
   "metadata": {},
   "outputs": [],
   "source": [
    "fh = open(\"out.ucidata-zachary\", \"rb\")\n",
    "ZKC_graph_Konect = nx.read_edgelist(fh, comments='%')\n",
    "fh.close()\n",
    "print(\"The number of nodes is\", ZKC_graph_Konect.number_of_nodes()) # print the number of nodes\n",
    "print(\"The number of edges is\", ZKC_graph_Konect.number_of_edges()) # print the number of edges"
   ]
  },
  {
   "cell_type": "markdown",
   "metadata": {},
   "source": [
    "#### B1b\n",
    "Using similar steps as for part A, apply the spectral bipartitioning algorithm to the real-world network you chose and visualize the communities. How might you interpret communities in the context of this real-world network? \n",
    "\n",
    "*Add code and markdown cell(s) below to answer this question.*"
   ]
  },
  {
   "cell_type": "markdown",
   "metadata": {},
   "source": [
    "### Task B2: Explore a different clustering method.\n",
    "\n",
    "\n",
    "Choose another community detection approach (e.g., from https://networkx.org/documentation/networkx-2.4/reference/algorithms/community.html). Explain the method you chose, then apply it to the network you downloaded and/or to the Zachary Karate Club network, and compare the output to spectral bipartitioning (e.g., using a similarity measure known as the \"Jaccard score\" https://scikit-learn.org/stable/modules/generated/sklearn.metrics.jaccard_score.html). What are some of the main differences and similarities between the two approaches? How might you go about extending the spectral bipartioning approach to detect more than two communities? \n",
    "\n",
    "*Add code and markdown cell(s) below to answer this question.*"
   ]
  },
  {
   "cell_type": "markdown",
   "metadata": {},
   "source": [
    "## Notes about this submission\n",
    "\n",
    "You will submit a single Jupyter notebook for this project assignment. Details will be provided for this on the MA124 Moodle page.\n",
    "\n",
    "- The last thing you should do before submitting the notebook is to Restart Kernel and Run All Cells. You should then save the notebook and submit the .ipynb file. **You will lose marks if you submit a notebook that has not been run.**\n",
    "\n",
    "- You are expected to add code and markdown cells to this document as appropriate to provide your responses to the tasks. Instructions about this are given throughout but feel free to add markdown cells at any point to provide clarity or comments.\n",
    "\n",
    "- Likewise, to help the reader, please provide appropriate comments in your code (for example functions or blocks of code should have comments about what they do, variables should be described in comments, as appropriate)."
   ]
  }
 ],
 "metadata": {
  "kernelspec": {
   "display_name": "Python 3",
   "language": "python",
   "name": "python3"
  },
  "language_info": {
   "codemirror_mode": {
    "name": "ipython",
    "version": 3
   },
   "file_extension": ".py",
   "mimetype": "text/x-python",
   "name": "python",
   "nbconvert_exporter": "python",
   "pygments_lexer": "ipython3",
   "version": "3.11.5"
  }
 },
 "nbformat": 4,
 "nbformat_minor": 4
}
